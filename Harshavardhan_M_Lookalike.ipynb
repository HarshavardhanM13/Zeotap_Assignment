{
  "nbformat": 4,
  "nbformat_minor": 0,
  "metadata": {
    "colab": {
      "provenance": []
    },
    "kernelspec": {
      "name": "python3",
      "display_name": "Python 3"
    },
    "language_info": {
      "name": "python"
    }
  },
  "cells": [
    {
      "cell_type": "code",
      "execution_count": 83,
      "metadata": {
        "id": "AvWWJ1O9NWyQ"
      },
      "outputs": [],
      "source": [
        "import pandas as pd\n",
        "import numpy as np\n",
        "from sklearn.preprocessing import MinMaxScaler\n",
        "from sklearn.preprocessing import OneHotEncoder,MultiLabelBinarizer\n",
        "from sklearn.metrics.pairwise import cosine_similarity\n",
        "import datetime"
      ]
    },
    {
      "cell_type": "code",
      "source": [
        "from google.colab import files\n",
        "upload = files.upload()\n",
        "\n",
        "customer_csv = pd.read_csv('Customers.csv')\n",
        "product_csv = pd.read_csv('Products.csv')\n",
        "transactions_csv = pd.read_csv('Transactions.csv')"
      ],
      "metadata": {
        "id": "pzpH9FhUNtWh",
        "colab": {
          "base_uri": "https://localhost:8080/",
          "height": 180
        },
        "outputId": "f4e20372-bbde-4727-e887-c6b8158d8e62"
      },
      "execution_count": 2,
      "outputs": [
        {
          "output_type": "display_data",
          "data": {
            "text/plain": [
              "<IPython.core.display.HTML object>"
            ],
            "text/html": [
              "\n",
              "     <input type=\"file\" id=\"files-93a8de80-41f3-420d-a6bd-6354ef40370a\" name=\"files[]\" multiple disabled\n",
              "        style=\"border:none\" />\n",
              "     <output id=\"result-93a8de80-41f3-420d-a6bd-6354ef40370a\">\n",
              "      Upload widget is only available when the cell has been executed in the\n",
              "      current browser session. Please rerun this cell to enable.\n",
              "      </output>\n",
              "      <script>// Copyright 2017 Google LLC\n",
              "//\n",
              "// Licensed under the Apache License, Version 2.0 (the \"License\");\n",
              "// you may not use this file except in compliance with the License.\n",
              "// You may obtain a copy of the License at\n",
              "//\n",
              "//      http://www.apache.org/licenses/LICENSE-2.0\n",
              "//\n",
              "// Unless required by applicable law or agreed to in writing, software\n",
              "// distributed under the License is distributed on an \"AS IS\" BASIS,\n",
              "// WITHOUT WARRANTIES OR CONDITIONS OF ANY KIND, either express or implied.\n",
              "// See the License for the specific language governing permissions and\n",
              "// limitations under the License.\n",
              "\n",
              "/**\n",
              " * @fileoverview Helpers for google.colab Python module.\n",
              " */\n",
              "(function(scope) {\n",
              "function span(text, styleAttributes = {}) {\n",
              "  const element = document.createElement('span');\n",
              "  element.textContent = text;\n",
              "  for (const key of Object.keys(styleAttributes)) {\n",
              "    element.style[key] = styleAttributes[key];\n",
              "  }\n",
              "  return element;\n",
              "}\n",
              "\n",
              "// Max number of bytes which will be uploaded at a time.\n",
              "const MAX_PAYLOAD_SIZE = 100 * 1024;\n",
              "\n",
              "function _uploadFiles(inputId, outputId) {\n",
              "  const steps = uploadFilesStep(inputId, outputId);\n",
              "  const outputElement = document.getElementById(outputId);\n",
              "  // Cache steps on the outputElement to make it available for the next call\n",
              "  // to uploadFilesContinue from Python.\n",
              "  outputElement.steps = steps;\n",
              "\n",
              "  return _uploadFilesContinue(outputId);\n",
              "}\n",
              "\n",
              "// This is roughly an async generator (not supported in the browser yet),\n",
              "// where there are multiple asynchronous steps and the Python side is going\n",
              "// to poll for completion of each step.\n",
              "// This uses a Promise to block the python side on completion of each step,\n",
              "// then passes the result of the previous step as the input to the next step.\n",
              "function _uploadFilesContinue(outputId) {\n",
              "  const outputElement = document.getElementById(outputId);\n",
              "  const steps = outputElement.steps;\n",
              "\n",
              "  const next = steps.next(outputElement.lastPromiseValue);\n",
              "  return Promise.resolve(next.value.promise).then((value) => {\n",
              "    // Cache the last promise value to make it available to the next\n",
              "    // step of the generator.\n",
              "    outputElement.lastPromiseValue = value;\n",
              "    return next.value.response;\n",
              "  });\n",
              "}\n",
              "\n",
              "/**\n",
              " * Generator function which is called between each async step of the upload\n",
              " * process.\n",
              " * @param {string} inputId Element ID of the input file picker element.\n",
              " * @param {string} outputId Element ID of the output display.\n",
              " * @return {!Iterable<!Object>} Iterable of next steps.\n",
              " */\n",
              "function* uploadFilesStep(inputId, outputId) {\n",
              "  const inputElement = document.getElementById(inputId);\n",
              "  inputElement.disabled = false;\n",
              "\n",
              "  const outputElement = document.getElementById(outputId);\n",
              "  outputElement.innerHTML = '';\n",
              "\n",
              "  const pickedPromise = new Promise((resolve) => {\n",
              "    inputElement.addEventListener('change', (e) => {\n",
              "      resolve(e.target.files);\n",
              "    });\n",
              "  });\n",
              "\n",
              "  const cancel = document.createElement('button');\n",
              "  inputElement.parentElement.appendChild(cancel);\n",
              "  cancel.textContent = 'Cancel upload';\n",
              "  const cancelPromise = new Promise((resolve) => {\n",
              "    cancel.onclick = () => {\n",
              "      resolve(null);\n",
              "    };\n",
              "  });\n",
              "\n",
              "  // Wait for the user to pick the files.\n",
              "  const files = yield {\n",
              "    promise: Promise.race([pickedPromise, cancelPromise]),\n",
              "    response: {\n",
              "      action: 'starting',\n",
              "    }\n",
              "  };\n",
              "\n",
              "  cancel.remove();\n",
              "\n",
              "  // Disable the input element since further picks are not allowed.\n",
              "  inputElement.disabled = true;\n",
              "\n",
              "  if (!files) {\n",
              "    return {\n",
              "      response: {\n",
              "        action: 'complete',\n",
              "      }\n",
              "    };\n",
              "  }\n",
              "\n",
              "  for (const file of files) {\n",
              "    const li = document.createElement('li');\n",
              "    li.append(span(file.name, {fontWeight: 'bold'}));\n",
              "    li.append(span(\n",
              "        `(${file.type || 'n/a'}) - ${file.size} bytes, ` +\n",
              "        `last modified: ${\n",
              "            file.lastModifiedDate ? file.lastModifiedDate.toLocaleDateString() :\n",
              "                                    'n/a'} - `));\n",
              "    const percent = span('0% done');\n",
              "    li.appendChild(percent);\n",
              "\n",
              "    outputElement.appendChild(li);\n",
              "\n",
              "    const fileDataPromise = new Promise((resolve) => {\n",
              "      const reader = new FileReader();\n",
              "      reader.onload = (e) => {\n",
              "        resolve(e.target.result);\n",
              "      };\n",
              "      reader.readAsArrayBuffer(file);\n",
              "    });\n",
              "    // Wait for the data to be ready.\n",
              "    let fileData = yield {\n",
              "      promise: fileDataPromise,\n",
              "      response: {\n",
              "        action: 'continue',\n",
              "      }\n",
              "    };\n",
              "\n",
              "    // Use a chunked sending to avoid message size limits. See b/62115660.\n",
              "    let position = 0;\n",
              "    do {\n",
              "      const length = Math.min(fileData.byteLength - position, MAX_PAYLOAD_SIZE);\n",
              "      const chunk = new Uint8Array(fileData, position, length);\n",
              "      position += length;\n",
              "\n",
              "      const base64 = btoa(String.fromCharCode.apply(null, chunk));\n",
              "      yield {\n",
              "        response: {\n",
              "          action: 'append',\n",
              "          file: file.name,\n",
              "          data: base64,\n",
              "        },\n",
              "      };\n",
              "\n",
              "      let percentDone = fileData.byteLength === 0 ?\n",
              "          100 :\n",
              "          Math.round((position / fileData.byteLength) * 100);\n",
              "      percent.textContent = `${percentDone}% done`;\n",
              "\n",
              "    } while (position < fileData.byteLength);\n",
              "  }\n",
              "\n",
              "  // All done.\n",
              "  yield {\n",
              "    response: {\n",
              "      action: 'complete',\n",
              "    }\n",
              "  };\n",
              "}\n",
              "\n",
              "scope.google = scope.google || {};\n",
              "scope.google.colab = scope.google.colab || {};\n",
              "scope.google.colab._files = {\n",
              "  _uploadFiles,\n",
              "  _uploadFilesContinue,\n",
              "};\n",
              "})(self);\n",
              "</script> "
            ]
          },
          "metadata": {}
        },
        {
          "output_type": "stream",
          "name": "stdout",
          "text": [
            "Saving Customers.csv to Customers.csv\n",
            "Saving Data Science Intern _ Assignment (1).pdf to Data Science Intern _ Assignment (1).pdf\n",
            "Saving Products.csv to Products.csv\n",
            "Saving Transactions.csv to Transactions.csv\n"
          ]
        }
      ]
    },
    {
      "cell_type": "markdown",
      "source": [
        "**LOOKALIKE MODEL**"
      ],
      "metadata": {
        "id": "Q6xTcsz-OOom"
      }
    },
    {
      "cell_type": "markdown",
      "source": [],
      "metadata": {
        "id": "iPIIWbCcmnAh"
      }
    },
    {
      "cell_type": "code",
      "source": [
        "transactions_csv['TransactionDate'] = pd.to_datetime(transactions_csv['TransactionDate'])\n",
        "model_data_frame = transactions_csv.groupby('CustomerID')['TransactionDate'].max().reset_index()\n",
        "date = pd.to_datetime('2025-01-01')\n",
        "model_data_frame['RecentTransactionDays'] = (date - model_data_frame['TransactionDate']).dt.days\n",
        "print(model_data_frame)"
      ],
      "metadata": {
        "colab": {
          "base_uri": "https://localhost:8080/"
        },
        "id": "LRbZ_w0VOYQo",
        "outputId": "b1c55dbd-5fe3-46ab-dcc9-8d34544c8db1"
      },
      "execution_count": 20,
      "outputs": [
        {
          "output_type": "stream",
          "name": "stdout",
          "text": [
            "    CustomerID     TransactionDate  RecentTransactionDays\n",
            "0        C0001 2024-11-02 17:04:16                     59\n",
            "1        C0002 2024-12-03 01:41:41                     28\n",
            "2        C0003 2024-08-24 18:54:04                    129\n",
            "3        C0004 2024-12-23 14:13:52                      8\n",
            "4        C0005 2024-11-04 00:30:22                     57\n",
            "..         ...                 ...                    ...\n",
            "194      C0196 2024-12-15 03:43:35                     16\n",
            "195      C0197 2024-12-27 18:20:31                      4\n",
            "196      C0198 2024-10-04 18:31:12                     88\n",
            "197      C0199 2024-10-26 00:01:58                     66\n",
            "198      C0200 2024-12-11 03:05:50                     20\n",
            "\n",
            "[199 rows x 3 columns]\n"
          ]
        }
      ]
    },
    {
      "cell_type": "code",
      "source": [
        "model_data_frame = model_data_frame.merge(customer_csv[['CustomerID','SignupDate']],on=\"CustomerID\",how='inner')"
      ],
      "metadata": {
        "colab": {
          "base_uri": "https://localhost:8080/",
          "height": 298
        },
        "id": "ewBq8ZLGkViV",
        "outputId": "2e1697ec-6bc5-465f-ef77-ed7917bcf5de"
      },
      "execution_count": 29,
      "outputs": [
        {
          "output_type": "error",
          "ename": "MergeError",
          "evalue": "Passing 'suffixes' which cause duplicate columns {'SignupDate_x'} is not allowed.",
          "traceback": [
            "\u001b[0;31m---------------------------------------------------------------------------\u001b[0m",
            "\u001b[0;31mMergeError\u001b[0m                                Traceback (most recent call last)",
            "\u001b[0;32m<ipython-input-29-42ee904fba39>\u001b[0m in \u001b[0;36m<cell line: 0>\u001b[0;34m()\u001b[0m\n\u001b[0;32m----> 1\u001b[0;31m \u001b[0mmodel_data_frame\u001b[0m \u001b[0;34m=\u001b[0m \u001b[0mmodel_data_frame\u001b[0m\u001b[0;34m.\u001b[0m\u001b[0mmerge\u001b[0m\u001b[0;34m(\u001b[0m\u001b[0mcustomer_csv\u001b[0m\u001b[0;34m[\u001b[0m\u001b[0;34m[\u001b[0m\u001b[0;34m'CustomerID'\u001b[0m\u001b[0;34m,\u001b[0m\u001b[0;34m'SignupDate'\u001b[0m\u001b[0;34m]\u001b[0m\u001b[0;34m]\u001b[0m\u001b[0;34m,\u001b[0m\u001b[0mon\u001b[0m\u001b[0;34m=\u001b[0m\u001b[0;34m\"CustomerID\"\u001b[0m\u001b[0;34m,\u001b[0m\u001b[0mhow\u001b[0m\u001b[0;34m=\u001b[0m\u001b[0;34m'inner'\u001b[0m\u001b[0;34m)\u001b[0m\u001b[0;34m\u001b[0m\u001b[0;34m\u001b[0m\u001b[0m\n\u001b[0m",
            "\u001b[0;32m/usr/local/lib/python3.11/dist-packages/pandas/core/frame.py\u001b[0m in \u001b[0;36mmerge\u001b[0;34m(self, right, how, on, left_on, right_on, left_index, right_index, sort, suffixes, copy, indicator, validate)\u001b[0m\n\u001b[1;32m  10830\u001b[0m         \u001b[0;32mfrom\u001b[0m \u001b[0mpandas\u001b[0m\u001b[0;34m.\u001b[0m\u001b[0mcore\u001b[0m\u001b[0;34m.\u001b[0m\u001b[0mreshape\u001b[0m\u001b[0;34m.\u001b[0m\u001b[0mmerge\u001b[0m \u001b[0;32mimport\u001b[0m \u001b[0mmerge\u001b[0m\u001b[0;34m\u001b[0m\u001b[0;34m\u001b[0m\u001b[0m\n\u001b[1;32m  10831\u001b[0m \u001b[0;34m\u001b[0m\u001b[0m\n\u001b[0;32m> 10832\u001b[0;31m         return merge(\n\u001b[0m\u001b[1;32m  10833\u001b[0m             \u001b[0mself\u001b[0m\u001b[0;34m,\u001b[0m\u001b[0;34m\u001b[0m\u001b[0;34m\u001b[0m\u001b[0m\n\u001b[1;32m  10834\u001b[0m             \u001b[0mright\u001b[0m\u001b[0;34m,\u001b[0m\u001b[0;34m\u001b[0m\u001b[0;34m\u001b[0m\u001b[0m\n",
            "\u001b[0;32m/usr/local/lib/python3.11/dist-packages/pandas/core/reshape/merge.py\u001b[0m in \u001b[0;36mmerge\u001b[0;34m(left, right, how, on, left_on, right_on, left_index, right_index, sort, suffixes, copy, indicator, validate)\u001b[0m\n\u001b[1;32m    182\u001b[0m             \u001b[0mvalidate\u001b[0m\u001b[0;34m=\u001b[0m\u001b[0mvalidate\u001b[0m\u001b[0;34m,\u001b[0m\u001b[0;34m\u001b[0m\u001b[0;34m\u001b[0m\u001b[0m\n\u001b[1;32m    183\u001b[0m         )\n\u001b[0;32m--> 184\u001b[0;31m         \u001b[0;32mreturn\u001b[0m \u001b[0mop\u001b[0m\u001b[0;34m.\u001b[0m\u001b[0mget_result\u001b[0m\u001b[0;34m(\u001b[0m\u001b[0mcopy\u001b[0m\u001b[0;34m=\u001b[0m\u001b[0mcopy\u001b[0m\u001b[0;34m)\u001b[0m\u001b[0;34m\u001b[0m\u001b[0;34m\u001b[0m\u001b[0m\n\u001b[0m\u001b[1;32m    185\u001b[0m \u001b[0;34m\u001b[0m\u001b[0m\n\u001b[1;32m    186\u001b[0m \u001b[0;34m\u001b[0m\u001b[0m\n",
            "\u001b[0;32m/usr/local/lib/python3.11/dist-packages/pandas/core/reshape/merge.py\u001b[0m in \u001b[0;36mget_result\u001b[0;34m(self, copy)\u001b[0m\n\u001b[1;32m    886\u001b[0m         \u001b[0mjoin_index\u001b[0m\u001b[0;34m,\u001b[0m \u001b[0mleft_indexer\u001b[0m\u001b[0;34m,\u001b[0m \u001b[0mright_indexer\u001b[0m \u001b[0;34m=\u001b[0m \u001b[0mself\u001b[0m\u001b[0;34m.\u001b[0m\u001b[0m_get_join_info\u001b[0m\u001b[0;34m(\u001b[0m\u001b[0;34m)\u001b[0m\u001b[0;34m\u001b[0m\u001b[0;34m\u001b[0m\u001b[0m\n\u001b[1;32m    887\u001b[0m \u001b[0;34m\u001b[0m\u001b[0m\n\u001b[0;32m--> 888\u001b[0;31m         result = self._reindex_and_concat(\n\u001b[0m\u001b[1;32m    889\u001b[0m             \u001b[0mjoin_index\u001b[0m\u001b[0;34m,\u001b[0m \u001b[0mleft_indexer\u001b[0m\u001b[0;34m,\u001b[0m \u001b[0mright_indexer\u001b[0m\u001b[0;34m,\u001b[0m \u001b[0mcopy\u001b[0m\u001b[0;34m=\u001b[0m\u001b[0mcopy\u001b[0m\u001b[0;34m\u001b[0m\u001b[0;34m\u001b[0m\u001b[0m\n\u001b[1;32m    890\u001b[0m         )\n",
            "\u001b[0;32m/usr/local/lib/python3.11/dist-packages/pandas/core/reshape/merge.py\u001b[0m in \u001b[0;36m_reindex_and_concat\u001b[0;34m(self, join_index, left_indexer, right_indexer, copy)\u001b[0m\n\u001b[1;32m    838\u001b[0m         \u001b[0mright\u001b[0m \u001b[0;34m=\u001b[0m \u001b[0mself\u001b[0m\u001b[0;34m.\u001b[0m\u001b[0mright\u001b[0m\u001b[0;34m[\u001b[0m\u001b[0;34m:\u001b[0m\u001b[0;34m]\u001b[0m\u001b[0;34m\u001b[0m\u001b[0;34m\u001b[0m\u001b[0m\n\u001b[1;32m    839\u001b[0m \u001b[0;34m\u001b[0m\u001b[0m\n\u001b[0;32m--> 840\u001b[0;31m         llabels, rlabels = _items_overlap_with_suffix(\n\u001b[0m\u001b[1;32m    841\u001b[0m             \u001b[0mself\u001b[0m\u001b[0;34m.\u001b[0m\u001b[0mleft\u001b[0m\u001b[0;34m.\u001b[0m\u001b[0m_info_axis\u001b[0m\u001b[0;34m,\u001b[0m \u001b[0mself\u001b[0m\u001b[0;34m.\u001b[0m\u001b[0mright\u001b[0m\u001b[0;34m.\u001b[0m\u001b[0m_info_axis\u001b[0m\u001b[0;34m,\u001b[0m \u001b[0mself\u001b[0m\u001b[0;34m.\u001b[0m\u001b[0msuffixes\u001b[0m\u001b[0;34m\u001b[0m\u001b[0;34m\u001b[0m\u001b[0m\n\u001b[1;32m    842\u001b[0m         )\n",
            "\u001b[0;32m/usr/local/lib/python3.11/dist-packages/pandas/core/reshape/merge.py\u001b[0m in \u001b[0;36m_items_overlap_with_suffix\u001b[0;34m(left, right, suffixes)\u001b[0m\n\u001b[1;32m   2755\u001b[0m         \u001b[0mdups\u001b[0m\u001b[0;34m.\u001b[0m\u001b[0mextend\u001b[0m\u001b[0;34m(\u001b[0m\u001b[0mrlabels\u001b[0m\u001b[0;34m[\u001b[0m\u001b[0;34m(\u001b[0m\u001b[0mrlabels\u001b[0m\u001b[0;34m.\u001b[0m\u001b[0mduplicated\u001b[0m\u001b[0;34m(\u001b[0m\u001b[0;34m)\u001b[0m\u001b[0;34m)\u001b[0m \u001b[0;34m&\u001b[0m \u001b[0;34m(\u001b[0m\u001b[0;34m~\u001b[0m\u001b[0mright\u001b[0m\u001b[0;34m.\u001b[0m\u001b[0mduplicated\u001b[0m\u001b[0;34m(\u001b[0m\u001b[0;34m)\u001b[0m\u001b[0;34m)\u001b[0m\u001b[0;34m]\u001b[0m\u001b[0;34m.\u001b[0m\u001b[0mtolist\u001b[0m\u001b[0;34m(\u001b[0m\u001b[0;34m)\u001b[0m\u001b[0;34m)\u001b[0m\u001b[0;34m\u001b[0m\u001b[0;34m\u001b[0m\u001b[0m\n\u001b[1;32m   2756\u001b[0m     \u001b[0;32mif\u001b[0m \u001b[0mdups\u001b[0m\u001b[0;34m:\u001b[0m\u001b[0;34m\u001b[0m\u001b[0;34m\u001b[0m\u001b[0m\n\u001b[0;32m-> 2757\u001b[0;31m         raise MergeError(\n\u001b[0m\u001b[1;32m   2758\u001b[0m             \u001b[0;34mf\"Passing 'suffixes' which cause duplicate columns {set(dups)} is \"\u001b[0m\u001b[0;34m\u001b[0m\u001b[0;34m\u001b[0m\u001b[0m\n\u001b[1;32m   2759\u001b[0m             \u001b[0;34mf\"not allowed.\"\u001b[0m\u001b[0;34m,\u001b[0m\u001b[0;34m\u001b[0m\u001b[0;34m\u001b[0m\u001b[0m\n",
            "\u001b[0;31mMergeError\u001b[0m: Passing 'suffixes' which cause duplicate columns {'SignupDate_x'} is not allowed."
          ]
        }
      ]
    },
    {
      "cell_type": "code",
      "source": [
        "model_data_frame['history'] = (date - pd.to_datetime(model_data_frame['SignupDate'])).dt.days\n",
        "#model_data_frame = model_data_frame.drop(columns=['SignupDate_x'])\n",
        "#model_data_frame = model_data_frame.drop(columns=['SignupDate_y'])\n",
        "print(model_data_frame)"
      ],
      "metadata": {
        "colab": {
          "base_uri": "https://localhost:8080/"
        },
        "id": "z8IRycwfnRne",
        "outputId": "4efb0564-5253-493a-c052-4a2c59cc7226"
      },
      "execution_count": 32,
      "outputs": [
        {
          "output_type": "stream",
          "name": "stdout",
          "text": [
            "    CustomerID     TransactionDate  RecentTransactionDays  SignupDate  history\n",
            "0        C0001 2024-11-02 17:04:16                     59  2022-07-10      906\n",
            "1        C0002 2024-12-03 01:41:41                     28  2022-02-13     1053\n",
            "2        C0003 2024-08-24 18:54:04                    129  2024-03-07      300\n",
            "3        C0004 2024-12-23 14:13:52                      8  2022-10-09      815\n",
            "4        C0005 2024-11-04 00:30:22                     57  2022-08-15      870\n",
            "..         ...                 ...                    ...         ...      ...\n",
            "194      C0196 2024-12-15 03:43:35                     16  2022-06-07      939\n",
            "195      C0197 2024-12-27 18:20:31                      4  2023-03-21      652\n",
            "196      C0198 2024-10-04 18:31:12                     88  2022-02-27     1039\n",
            "197      C0199 2024-10-26 00:01:58                     66  2022-12-03      760\n",
            "198      C0200 2024-12-11 03:05:50                     20  2023-06-11      570\n",
            "\n",
            "[199 rows x 5 columns]\n"
          ]
        }
      ]
    },
    {
      "cell_type": "code",
      "source": [
        "regions = {\n",
        "    'South America' : 0,\n",
        "    'North America' : 1,\n",
        "    'Europe' : 2,\n",
        "    'Asia' : 3\n",
        "}\n",
        "\n",
        "model_data_frame['Region'] = customer_csv['Region'].map(regions)\n",
        "print(model_data_frame)"
      ],
      "metadata": {
        "colab": {
          "base_uri": "https://localhost:8080/"
        },
        "id": "bFboJAeRo5xx",
        "outputId": "66dbf204-308b-4fca-dfec-36e800a83634"
      },
      "execution_count": 33,
      "outputs": [
        {
          "output_type": "stream",
          "name": "stdout",
          "text": [
            "    CustomerID     TransactionDate  RecentTransactionDays  SignupDate  \\\n",
            "0        C0001 2024-11-02 17:04:16                     59  2022-07-10   \n",
            "1        C0002 2024-12-03 01:41:41                     28  2022-02-13   \n",
            "2        C0003 2024-08-24 18:54:04                    129  2024-03-07   \n",
            "3        C0004 2024-12-23 14:13:52                      8  2022-10-09   \n",
            "4        C0005 2024-11-04 00:30:22                     57  2022-08-15   \n",
            "..         ...                 ...                    ...         ...   \n",
            "194      C0196 2024-12-15 03:43:35                     16  2022-06-07   \n",
            "195      C0197 2024-12-27 18:20:31                      4  2023-03-21   \n",
            "196      C0198 2024-10-04 18:31:12                     88  2022-02-27   \n",
            "197      C0199 2024-10-26 00:01:58                     66  2022-12-03   \n",
            "198      C0200 2024-12-11 03:05:50                     20  2023-06-11   \n",
            "\n",
            "     history  Region  \n",
            "0        906       0  \n",
            "1       1053       3  \n",
            "2        300       0  \n",
            "3        815       0  \n",
            "4        870       3  \n",
            "..       ...     ...  \n",
            "194      939       0  \n",
            "195      652       2  \n",
            "196     1039       2  \n",
            "197      760       2  \n",
            "198      570       2  \n",
            "\n",
            "[199 rows x 6 columns]\n"
          ]
        }
      ]
    },
    {
      "cell_type": "code",
      "source": [
        "total_spent_data_frame = transactions_csv.groupby('CustomerID')['TotalValue'].sum().reset_index()\n",
        "merged_data = model_data_frame.merge(total_spent_data_frame, on='CustomerID', how='inner')\n",
        "merged_data.rename(columns={'TotalValue': 'total_spent'}, inplace=True)\n",
        "model_data_frame = merged_data\n",
        "print(model_data_frame)"
      ],
      "metadata": {
        "colab": {
          "base_uri": "https://localhost:8080/"
        },
        "id": "2CwxCAp2p--n",
        "outputId": "40949eea-188a-4aac-d564-2f49cb9c0e56"
      },
      "execution_count": 40,
      "outputs": [
        {
          "output_type": "stream",
          "name": "stdout",
          "text": [
            "    CustomerID     TransactionDate  RecentTransactionDays  SignupDate  \\\n",
            "0        C0001 2024-11-02 17:04:16                     59  2022-07-10   \n",
            "1        C0002 2024-12-03 01:41:41                     28  2022-02-13   \n",
            "2        C0003 2024-08-24 18:54:04                    129  2024-03-07   \n",
            "3        C0004 2024-12-23 14:13:52                      8  2022-10-09   \n",
            "4        C0005 2024-11-04 00:30:22                     57  2022-08-15   \n",
            "..         ...                 ...                    ...         ...   \n",
            "194      C0196 2024-12-15 03:43:35                     16  2022-06-07   \n",
            "195      C0197 2024-12-27 18:20:31                      4  2023-03-21   \n",
            "196      C0198 2024-10-04 18:31:12                     88  2022-02-27   \n",
            "197      C0199 2024-10-26 00:01:58                     66  2022-12-03   \n",
            "198      C0200 2024-12-11 03:05:50                     20  2023-06-11   \n",
            "\n",
            "     history  Region  total_spent  \n",
            "0        906       0      3354.52  \n",
            "1       1053       3      1862.74  \n",
            "2        300       0      2725.38  \n",
            "3        815       0      5354.88  \n",
            "4        870       3      2034.24  \n",
            "..       ...     ...          ...  \n",
            "194      939       0      4982.88  \n",
            "195      652       2      1928.65  \n",
            "196     1039       2       931.83  \n",
            "197      760       2      1979.28  \n",
            "198      570       2      4758.60  \n",
            "\n",
            "[199 rows x 7 columns]\n"
          ]
        }
      ]
    },
    {
      "cell_type": "code",
      "source": [
        "total_spent_data_frame = transactions_csv.groupby('CustomerID')['Quantity'].sum().reset_index()\n",
        "merged_data = model_data_frame.merge(total_spent_data_frame, on='CustomerID', how='inner')\n",
        "merged_data.rename(columns={'TotalQuantity': 'Total_Qty'}, inplace=True)\n",
        "model_data_frame = merged_data\n",
        "print(model_data_frame)"
      ],
      "metadata": {
        "colab": {
          "base_uri": "https://localhost:8080/"
        },
        "id": "OqHTWEXUrkTx",
        "outputId": "d0821fd3-43dc-43e2-a280-ac4f7b0f8b83"
      },
      "execution_count": 41,
      "outputs": [
        {
          "output_type": "stream",
          "name": "stdout",
          "text": [
            "    CustomerID     TransactionDate  RecentTransactionDays  SignupDate  \\\n",
            "0        C0001 2024-11-02 17:04:16                     59  2022-07-10   \n",
            "1        C0002 2024-12-03 01:41:41                     28  2022-02-13   \n",
            "2        C0003 2024-08-24 18:54:04                    129  2024-03-07   \n",
            "3        C0004 2024-12-23 14:13:52                      8  2022-10-09   \n",
            "4        C0005 2024-11-04 00:30:22                     57  2022-08-15   \n",
            "..         ...                 ...                    ...         ...   \n",
            "194      C0196 2024-12-15 03:43:35                     16  2022-06-07   \n",
            "195      C0197 2024-12-27 18:20:31                      4  2023-03-21   \n",
            "196      C0198 2024-10-04 18:31:12                     88  2022-02-27   \n",
            "197      C0199 2024-10-26 00:01:58                     66  2022-12-03   \n",
            "198      C0200 2024-12-11 03:05:50                     20  2023-06-11   \n",
            "\n",
            "     history  Region  total_spent  Quantity  \n",
            "0        906       0      3354.52        12  \n",
            "1       1053       3      1862.74        10  \n",
            "2        300       0      2725.38        14  \n",
            "3        815       0      5354.88        23  \n",
            "4        870       3      2034.24         7  \n",
            "..       ...     ...          ...       ...  \n",
            "194      939       0      4982.88        12  \n",
            "195      652       2      1928.65         9  \n",
            "196     1039       2       931.83         3  \n",
            "197      760       2      1979.28         9  \n",
            "198      570       2      4758.60        16  \n",
            "\n",
            "[199 rows x 8 columns]\n"
          ]
        }
      ]
    },
    {
      "cell_type": "code",
      "source": [
        "total_spent_data_frame = transactions_csv.groupby('CustomerID')['Quantity'].sum().reset_index()\n",
        "merged_data = model_data_frame.merge(total_spent_data_frame, on='CustomerID', how='inner')\n",
        "merged_data.rename(columns={'TotalQuantity': 'Total_Qty'}, inplace=True)\n",
        "model_data_frame = merged_data\n",
        "print(model_data_frame)"
      ],
      "metadata": {
        "id": "3OxxZSS2sNC3"
      },
      "execution_count": 42,
      "outputs": []
    },
    {
      "cell_type": "code",
      "source": [
        "uniques_products = product_csv['Category'].unique()\n",
        "print(uniques_products)\n",
        "uniques_products = {\n",
        "    'Books' : 0,\n",
        "    'Electronics' : 1,\n",
        "    'Home Decor' : 2,\n",
        "    'Clothing' : 3\n",
        "}\n"
      ],
      "metadata": {
        "colab": {
          "base_uri": "https://localhost:8080/"
        },
        "id": "yje-Y2yPucSZ",
        "outputId": "d016ad8e-bc07-4f29-8e6f-0c3572ba8d9a"
      },
      "execution_count": 45,
      "outputs": [
        {
          "output_type": "stream",
          "name": "stdout",
          "text": [
            "['Books' 'Electronics' 'Home Decor' 'Clothing']\n",
            "0     0\n",
            "1     1\n",
            "2     0\n",
            "3     2\n",
            "4     3\n",
            "     ..\n",
            "95    1\n",
            "96    0\n",
            "97    1\n",
            "98    0\n",
            "99    3\n",
            "Name: Category, Length: 100, dtype: int64\n"
          ]
        }
      ]
    },
    {
      "cell_type": "code",
      "source": [
        "\n",
        "customer_to_products = transactions_csv.groupby(['CustomerID','ProductID'])['Quantity'].sum().reset_index()\n",
        "#print(customer_to_products)\n",
        "max_quantity_for_each_customer = customer_to_products.groupby('CustomerID')['Quantity'].transform('max')\n",
        "most_bought_products = customer_to_products[customer_to_products['Quantity'] == max_quantity_for_each_customer]\n",
        "most_bought_products_per_customer = most_bought_products.groupby('CustomerID')['ProductID'].apply(list).reset_index()\n",
        "merge_product_and_most_brought = most_bought_products.merge(product_csv, on='ProductID', how='left')\n",
        "final_data = merge_product_and_most_brought.groupby('CustomerID')['Category'].apply(list).reset_index()\n",
        "final_data['Category'] = final_data['Category'].apply(lambda x: [uniques_products[cat] for cat in x])\n",
        "print(final_data)"
      ],
      "metadata": {
        "colab": {
          "base_uri": "https://localhost:8080/"
        },
        "id": "Mtc1rHjYwEQo",
        "outputId": "ff72b9d7-702a-4c44-e9fc-2e11b4ba6a23"
      },
      "execution_count": 52,
      "outputs": [
        {
          "output_type": "stream",
          "name": "stdout",
          "text": [
            "    CustomerID   Category\n",
            "0        C0001     [2, 1]\n",
            "1        C0002        [2]\n",
            "2        C0003     [1, 3]\n",
            "3        C0004  [0, 2, 1]\n",
            "4        C0005        [2]\n",
            "..         ...        ...\n",
            "194      C0196        [2]\n",
            "195      C0197        [1]\n",
            "196      C0198        [3]\n",
            "197      C0199        [2]\n",
            "198      C0200  [3, 0, 2]\n",
            "\n",
            "[199 rows x 2 columns]\n"
          ]
        }
      ]
    },
    {
      "cell_type": "code",
      "source": [
        "model_data_frame = model_data_frame.merge(final_data,on='CustomerID',how='inner')\n"
      ],
      "metadata": {
        "colab": {
          "base_uri": "https://localhost:8080/",
          "height": 335
        },
        "id": "UxJjhEfo2KLy",
        "outputId": "d7bc7194-eed0-4b9c-f658-e0670ea29387"
      },
      "execution_count": 57,
      "outputs": [
        {
          "output_type": "error",
          "ename": "MergeError",
          "evalue": "Passing 'suffixes' which cause duplicate columns {'Category_x'} is not allowed.",
          "traceback": [
            "\u001b[0;31m---------------------------------------------------------------------------\u001b[0m",
            "\u001b[0;31mMergeError\u001b[0m                                Traceback (most recent call last)",
            "\u001b[0;32m<ipython-input-57-626d525955e9>\u001b[0m in \u001b[0;36m<cell line: 0>\u001b[0;34m()\u001b[0m\n\u001b[0;32m----> 1\u001b[0;31m \u001b[0mmodel_data_frame\u001b[0m \u001b[0;34m=\u001b[0m \u001b[0mmodel_data_frame\u001b[0m\u001b[0;34m.\u001b[0m\u001b[0mmerge\u001b[0m\u001b[0;34m(\u001b[0m\u001b[0mfinal_data\u001b[0m\u001b[0;34m,\u001b[0m\u001b[0mon\u001b[0m\u001b[0;34m=\u001b[0m\u001b[0;34m'CustomerID'\u001b[0m\u001b[0;34m,\u001b[0m\u001b[0mhow\u001b[0m\u001b[0;34m=\u001b[0m\u001b[0;34m'inner'\u001b[0m\u001b[0;34m)\u001b[0m\u001b[0;34m\u001b[0m\u001b[0;34m\u001b[0m\u001b[0m\n\u001b[0m\u001b[1;32m      2\u001b[0m \u001b[0mmodel_data_frame\u001b[0m \u001b[0;34m=\u001b[0m \u001b[0mmodel_data_frame\u001b[0m\u001b[0;34m.\u001b[0m\u001b[0mdrop\u001b[0m\u001b[0;34m(\u001b[0m\u001b[0mcolumns\u001b[0m\u001b[0;34m=\u001b[0m\u001b[0;34m[\u001b[0m\u001b[0;34m'Category_x'\u001b[0m\u001b[0;34m]\u001b[0m\u001b[0;34m)\u001b[0m\u001b[0;34m\u001b[0m\u001b[0;34m\u001b[0m\u001b[0m\n\u001b[1;32m      3\u001b[0m \u001b[0mmodel_data_frame\u001b[0m \u001b[0;34m=\u001b[0m \u001b[0mmodel_data_frame\u001b[0m\u001b[0;34m.\u001b[0m\u001b[0mdrop\u001b[0m\u001b[0;34m(\u001b[0m\u001b[0mcolumns\u001b[0m\u001b[0;34m=\u001b[0m\u001b[0;34m[\u001b[0m\u001b[0;34m'Category_y'\u001b[0m\u001b[0;34m]\u001b[0m\u001b[0;34m)\u001b[0m\u001b[0;34m\u001b[0m\u001b[0;34m\u001b[0m\u001b[0m\n",
            "\u001b[0;32m/usr/local/lib/python3.11/dist-packages/pandas/core/frame.py\u001b[0m in \u001b[0;36mmerge\u001b[0;34m(self, right, how, on, left_on, right_on, left_index, right_index, sort, suffixes, copy, indicator, validate)\u001b[0m\n\u001b[1;32m  10830\u001b[0m         \u001b[0;32mfrom\u001b[0m \u001b[0mpandas\u001b[0m\u001b[0;34m.\u001b[0m\u001b[0mcore\u001b[0m\u001b[0;34m.\u001b[0m\u001b[0mreshape\u001b[0m\u001b[0;34m.\u001b[0m\u001b[0mmerge\u001b[0m \u001b[0;32mimport\u001b[0m \u001b[0mmerge\u001b[0m\u001b[0;34m\u001b[0m\u001b[0;34m\u001b[0m\u001b[0m\n\u001b[1;32m  10831\u001b[0m \u001b[0;34m\u001b[0m\u001b[0m\n\u001b[0;32m> 10832\u001b[0;31m         return merge(\n\u001b[0m\u001b[1;32m  10833\u001b[0m             \u001b[0mself\u001b[0m\u001b[0;34m,\u001b[0m\u001b[0;34m\u001b[0m\u001b[0;34m\u001b[0m\u001b[0m\n\u001b[1;32m  10834\u001b[0m             \u001b[0mright\u001b[0m\u001b[0;34m,\u001b[0m\u001b[0;34m\u001b[0m\u001b[0;34m\u001b[0m\u001b[0m\n",
            "\u001b[0;32m/usr/local/lib/python3.11/dist-packages/pandas/core/reshape/merge.py\u001b[0m in \u001b[0;36mmerge\u001b[0;34m(left, right, how, on, left_on, right_on, left_index, right_index, sort, suffixes, copy, indicator, validate)\u001b[0m\n\u001b[1;32m    182\u001b[0m             \u001b[0mvalidate\u001b[0m\u001b[0;34m=\u001b[0m\u001b[0mvalidate\u001b[0m\u001b[0;34m,\u001b[0m\u001b[0;34m\u001b[0m\u001b[0;34m\u001b[0m\u001b[0m\n\u001b[1;32m    183\u001b[0m         )\n\u001b[0;32m--> 184\u001b[0;31m         \u001b[0;32mreturn\u001b[0m \u001b[0mop\u001b[0m\u001b[0;34m.\u001b[0m\u001b[0mget_result\u001b[0m\u001b[0;34m(\u001b[0m\u001b[0mcopy\u001b[0m\u001b[0;34m=\u001b[0m\u001b[0mcopy\u001b[0m\u001b[0;34m)\u001b[0m\u001b[0;34m\u001b[0m\u001b[0;34m\u001b[0m\u001b[0m\n\u001b[0m\u001b[1;32m    185\u001b[0m \u001b[0;34m\u001b[0m\u001b[0m\n\u001b[1;32m    186\u001b[0m \u001b[0;34m\u001b[0m\u001b[0m\n",
            "\u001b[0;32m/usr/local/lib/python3.11/dist-packages/pandas/core/reshape/merge.py\u001b[0m in \u001b[0;36mget_result\u001b[0;34m(self, copy)\u001b[0m\n\u001b[1;32m    886\u001b[0m         \u001b[0mjoin_index\u001b[0m\u001b[0;34m,\u001b[0m \u001b[0mleft_indexer\u001b[0m\u001b[0;34m,\u001b[0m \u001b[0mright_indexer\u001b[0m \u001b[0;34m=\u001b[0m \u001b[0mself\u001b[0m\u001b[0;34m.\u001b[0m\u001b[0m_get_join_info\u001b[0m\u001b[0;34m(\u001b[0m\u001b[0;34m)\u001b[0m\u001b[0;34m\u001b[0m\u001b[0;34m\u001b[0m\u001b[0m\n\u001b[1;32m    887\u001b[0m \u001b[0;34m\u001b[0m\u001b[0m\n\u001b[0;32m--> 888\u001b[0;31m         result = self._reindex_and_concat(\n\u001b[0m\u001b[1;32m    889\u001b[0m             \u001b[0mjoin_index\u001b[0m\u001b[0;34m,\u001b[0m \u001b[0mleft_indexer\u001b[0m\u001b[0;34m,\u001b[0m \u001b[0mright_indexer\u001b[0m\u001b[0;34m,\u001b[0m \u001b[0mcopy\u001b[0m\u001b[0;34m=\u001b[0m\u001b[0mcopy\u001b[0m\u001b[0;34m\u001b[0m\u001b[0;34m\u001b[0m\u001b[0m\n\u001b[1;32m    890\u001b[0m         )\n",
            "\u001b[0;32m/usr/local/lib/python3.11/dist-packages/pandas/core/reshape/merge.py\u001b[0m in \u001b[0;36m_reindex_and_concat\u001b[0;34m(self, join_index, left_indexer, right_indexer, copy)\u001b[0m\n\u001b[1;32m    838\u001b[0m         \u001b[0mright\u001b[0m \u001b[0;34m=\u001b[0m \u001b[0mself\u001b[0m\u001b[0;34m.\u001b[0m\u001b[0mright\u001b[0m\u001b[0;34m[\u001b[0m\u001b[0;34m:\u001b[0m\u001b[0;34m]\u001b[0m\u001b[0;34m\u001b[0m\u001b[0;34m\u001b[0m\u001b[0m\n\u001b[1;32m    839\u001b[0m \u001b[0;34m\u001b[0m\u001b[0m\n\u001b[0;32m--> 840\u001b[0;31m         llabels, rlabels = _items_overlap_with_suffix(\n\u001b[0m\u001b[1;32m    841\u001b[0m             \u001b[0mself\u001b[0m\u001b[0;34m.\u001b[0m\u001b[0mleft\u001b[0m\u001b[0;34m.\u001b[0m\u001b[0m_info_axis\u001b[0m\u001b[0;34m,\u001b[0m \u001b[0mself\u001b[0m\u001b[0;34m.\u001b[0m\u001b[0mright\u001b[0m\u001b[0;34m.\u001b[0m\u001b[0m_info_axis\u001b[0m\u001b[0;34m,\u001b[0m \u001b[0mself\u001b[0m\u001b[0;34m.\u001b[0m\u001b[0msuffixes\u001b[0m\u001b[0;34m\u001b[0m\u001b[0;34m\u001b[0m\u001b[0m\n\u001b[1;32m    842\u001b[0m         )\n",
            "\u001b[0;32m/usr/local/lib/python3.11/dist-packages/pandas/core/reshape/merge.py\u001b[0m in \u001b[0;36m_items_overlap_with_suffix\u001b[0;34m(left, right, suffixes)\u001b[0m\n\u001b[1;32m   2755\u001b[0m         \u001b[0mdups\u001b[0m\u001b[0;34m.\u001b[0m\u001b[0mextend\u001b[0m\u001b[0;34m(\u001b[0m\u001b[0mrlabels\u001b[0m\u001b[0;34m[\u001b[0m\u001b[0;34m(\u001b[0m\u001b[0mrlabels\u001b[0m\u001b[0;34m.\u001b[0m\u001b[0mduplicated\u001b[0m\u001b[0;34m(\u001b[0m\u001b[0;34m)\u001b[0m\u001b[0;34m)\u001b[0m \u001b[0;34m&\u001b[0m \u001b[0;34m(\u001b[0m\u001b[0;34m~\u001b[0m\u001b[0mright\u001b[0m\u001b[0;34m.\u001b[0m\u001b[0mduplicated\u001b[0m\u001b[0;34m(\u001b[0m\u001b[0;34m)\u001b[0m\u001b[0;34m)\u001b[0m\u001b[0;34m]\u001b[0m\u001b[0;34m.\u001b[0m\u001b[0mtolist\u001b[0m\u001b[0;34m(\u001b[0m\u001b[0;34m)\u001b[0m\u001b[0;34m)\u001b[0m\u001b[0;34m\u001b[0m\u001b[0;34m\u001b[0m\u001b[0m\n\u001b[1;32m   2756\u001b[0m     \u001b[0;32mif\u001b[0m \u001b[0mdups\u001b[0m\u001b[0;34m:\u001b[0m\u001b[0;34m\u001b[0m\u001b[0;34m\u001b[0m\u001b[0m\n\u001b[0;32m-> 2757\u001b[0;31m         raise MergeError(\n\u001b[0m\u001b[1;32m   2758\u001b[0m             \u001b[0;34mf\"Passing 'suffixes' which cause duplicate columns {set(dups)} is \"\u001b[0m\u001b[0;34m\u001b[0m\u001b[0;34m\u001b[0m\u001b[0m\n\u001b[1;32m   2759\u001b[0m             \u001b[0;34mf\"not allowed.\"\u001b[0m\u001b[0;34m,\u001b[0m\u001b[0;34m\u001b[0m\u001b[0;34m\u001b[0m\u001b[0m\n",
            "\u001b[0;31mMergeError\u001b[0m: Passing 'suffixes' which cause duplicate columns {'Category_x'} is not allowed."
          ]
        }
      ]
    },
    {
      "cell_type": "code",
      "source": [
        "model_data_frame = model_data_frame.drop(columns=['Category_x'])\n",
        "model_data_frame = model_data_frame.drop(columns=['Category_y'])"
      ],
      "metadata": {
        "colab": {
          "base_uri": "https://localhost:8080/"
        },
        "id": "gUbzswAY3uBA",
        "outputId": "fe059fbd-dcd8-4678-b8f0-2d32312ab136"
      },
      "execution_count": 60,
      "outputs": [
        {
          "output_type": "stream",
          "name": "stdout",
          "text": [
            "Index(['CustomerID', 'TransactionDate', 'RecentTransactionDays', 'SignupDate',\n",
            "       'history', 'Region', 'total_spent', 'Quantity', 'Category_x',\n",
            "       'Category_y', 'Category'],\n",
            "      dtype='object')\n"
          ]
        }
      ]
    },
    {
      "cell_type": "code",
      "source": [
        "print(model_data_frame)"
      ],
      "metadata": {
        "colab": {
          "base_uri": "https://localhost:8080/"
        },
        "id": "2RtVBia630yK",
        "outputId": "d88ece45-8cfd-40a6-8b15-e54ca5224cbf"
      },
      "execution_count": 62,
      "outputs": [
        {
          "output_type": "stream",
          "name": "stdout",
          "text": [
            "    CustomerID     TransactionDate  RecentTransactionDays  SignupDate  \\\n",
            "0        C0001 2024-11-02 17:04:16                     59  2022-07-10   \n",
            "1        C0002 2024-12-03 01:41:41                     28  2022-02-13   \n",
            "2        C0003 2024-08-24 18:54:04                    129  2024-03-07   \n",
            "3        C0004 2024-12-23 14:13:52                      8  2022-10-09   \n",
            "4        C0005 2024-11-04 00:30:22                     57  2022-08-15   \n",
            "..         ...                 ...                    ...         ...   \n",
            "194      C0196 2024-12-15 03:43:35                     16  2022-06-07   \n",
            "195      C0197 2024-12-27 18:20:31                      4  2023-03-21   \n",
            "196      C0198 2024-10-04 18:31:12                     88  2022-02-27   \n",
            "197      C0199 2024-10-26 00:01:58                     66  2022-12-03   \n",
            "198      C0200 2024-12-11 03:05:50                     20  2023-06-11   \n",
            "\n",
            "     history  Region  total_spent  Quantity   Category  \n",
            "0        906       0      3354.52        12     [2, 1]  \n",
            "1       1053       3      1862.74        10        [2]  \n",
            "2        300       0      2725.38        14     [1, 3]  \n",
            "3        815       0      5354.88        23  [0, 2, 1]  \n",
            "4        870       3      2034.24         7        [2]  \n",
            "..       ...     ...          ...       ...        ...  \n",
            "194      939       0      4982.88        12        [2]  \n",
            "195      652       2      1928.65         9        [1]  \n",
            "196     1039       2       931.83         3        [3]  \n",
            "197      760       2      1979.28         9        [2]  \n",
            "198      570       2      4758.60        16  [3, 0, 2]  \n",
            "\n",
            "[199 rows x 9 columns]\n"
          ]
        }
      ]
    },
    {
      "cell_type": "code",
      "source": [],
      "metadata": {
        "id": "Y-xQ1CKx8E81"
      },
      "execution_count": null,
      "outputs": []
    },
    {
      "cell_type": "markdown",
      "source": [
        "Start to Normalise"
      ],
      "metadata": {
        "id": "EXO53SX85NaY"
      }
    },
    {
      "cell_type": "code",
      "source": [
        "scaler = MinMaxScaler()\n",
        "model_data_frame[['RecentTransactionDays', 'history', 'total_spent', 'Quantity']] = scaler.fit_transform(\n",
        "    model_data_frame[['RecentTransactionDays', 'history', 'total_spent', 'Quantity']]\n",
        ")"
      ],
      "metadata": {
        "id": "CYZH7B4A5Rsp"
      },
      "execution_count": 77,
      "outputs": []
    },
    {
      "cell_type": "code",
      "source": [
        "categories = ['Books', 'Electronics', 'Home Decor', 'Clothing']\n",
        "\n",
        "mlb_class = MultiLabelBinarizer(classes=range(len(categories)))\n",
        "category_encoded_data = pd.DataFrame(mlb_class.fit_transform(model_data_frame['Category']), columns=categories)\n",
        "model_data_frame = pd.concat([model_data_frame.drop(columns=['Category']), category_encoded_data], axis=1)"
      ],
      "metadata": {
        "colab": {
          "base_uri": "https://localhost:8080/",
          "height": 572
        },
        "id": "Wxe_SF5u8GEc",
        "outputId": "c09ef629-6562-4400-82af-b27132252dd0"
      },
      "execution_count": 75,
      "outputs": [
        {
          "output_type": "error",
          "ename": "KeyError",
          "evalue": "'Category'",
          "traceback": [
            "\u001b[0;31m---------------------------------------------------------------------------\u001b[0m",
            "\u001b[0;31mKeyError\u001b[0m                                  Traceback (most recent call last)",
            "\u001b[0;32m/usr/local/lib/python3.11/dist-packages/pandas/core/indexes/base.py\u001b[0m in \u001b[0;36mget_loc\u001b[0;34m(self, key)\u001b[0m\n\u001b[1;32m   3804\u001b[0m         \u001b[0;32mtry\u001b[0m\u001b[0;34m:\u001b[0m\u001b[0;34m\u001b[0m\u001b[0;34m\u001b[0m\u001b[0m\n\u001b[0;32m-> 3805\u001b[0;31m             \u001b[0;32mreturn\u001b[0m \u001b[0mself\u001b[0m\u001b[0;34m.\u001b[0m\u001b[0m_engine\u001b[0m\u001b[0;34m.\u001b[0m\u001b[0mget_loc\u001b[0m\u001b[0;34m(\u001b[0m\u001b[0mcasted_key\u001b[0m\u001b[0;34m)\u001b[0m\u001b[0;34m\u001b[0m\u001b[0;34m\u001b[0m\u001b[0m\n\u001b[0m\u001b[1;32m   3806\u001b[0m         \u001b[0;32mexcept\u001b[0m \u001b[0mKeyError\u001b[0m \u001b[0;32mas\u001b[0m \u001b[0merr\u001b[0m\u001b[0;34m:\u001b[0m\u001b[0;34m\u001b[0m\u001b[0;34m\u001b[0m\u001b[0m\n",
            "\u001b[0;32mindex.pyx\u001b[0m in \u001b[0;36mpandas._libs.index.IndexEngine.get_loc\u001b[0;34m()\u001b[0m\n",
            "\u001b[0;32mindex.pyx\u001b[0m in \u001b[0;36mpandas._libs.index.IndexEngine.get_loc\u001b[0;34m()\u001b[0m\n",
            "\u001b[0;32mpandas/_libs/hashtable_class_helper.pxi\u001b[0m in \u001b[0;36mpandas._libs.hashtable.PyObjectHashTable.get_item\u001b[0;34m()\u001b[0m\n",
            "\u001b[0;32mpandas/_libs/hashtable_class_helper.pxi\u001b[0m in \u001b[0;36mpandas._libs.hashtable.PyObjectHashTable.get_item\u001b[0;34m()\u001b[0m\n",
            "\u001b[0;31mKeyError\u001b[0m: 'Category'",
            "\nThe above exception was the direct cause of the following exception:\n",
            "\u001b[0;31mKeyError\u001b[0m                                  Traceback (most recent call last)",
            "\u001b[0;32m<ipython-input-75-7064a1ff64eb>\u001b[0m in \u001b[0;36m<cell line: 0>\u001b[0;34m()\u001b[0m\n\u001b[1;32m      2\u001b[0m \u001b[0;34m\u001b[0m\u001b[0m\n\u001b[1;32m      3\u001b[0m \u001b[0mmlb_class\u001b[0m \u001b[0;34m=\u001b[0m \u001b[0mMultiLabelBinarizer\u001b[0m\u001b[0;34m(\u001b[0m\u001b[0mclasses\u001b[0m\u001b[0;34m=\u001b[0m\u001b[0mrange\u001b[0m\u001b[0;34m(\u001b[0m\u001b[0mlen\u001b[0m\u001b[0;34m(\u001b[0m\u001b[0mcategories\u001b[0m\u001b[0;34m)\u001b[0m\u001b[0;34m)\u001b[0m\u001b[0;34m)\u001b[0m\u001b[0;34m\u001b[0m\u001b[0;34m\u001b[0m\u001b[0m\n\u001b[0;32m----> 4\u001b[0;31m \u001b[0mcategory_encoded_data\u001b[0m \u001b[0;34m=\u001b[0m \u001b[0mpd\u001b[0m\u001b[0;34m.\u001b[0m\u001b[0mDataFrame\u001b[0m\u001b[0;34m(\u001b[0m\u001b[0mmlb_class\u001b[0m\u001b[0;34m.\u001b[0m\u001b[0mfit_transform\u001b[0m\u001b[0;34m(\u001b[0m\u001b[0mmodel_data_frame\u001b[0m\u001b[0;34m[\u001b[0m\u001b[0;34m'Category'\u001b[0m\u001b[0;34m]\u001b[0m\u001b[0;34m)\u001b[0m\u001b[0;34m,\u001b[0m \u001b[0mcolumns\u001b[0m\u001b[0;34m=\u001b[0m\u001b[0mcategories\u001b[0m\u001b[0;34m)\u001b[0m\u001b[0;34m\u001b[0m\u001b[0;34m\u001b[0m\u001b[0m\n\u001b[0m\u001b[1;32m      5\u001b[0m \u001b[0;34m\u001b[0m\u001b[0m\n\u001b[1;32m      6\u001b[0m \u001b[0mmodel_data_frame\u001b[0m \u001b[0;34m=\u001b[0m \u001b[0mpd\u001b[0m\u001b[0;34m.\u001b[0m\u001b[0mconcat\u001b[0m\u001b[0;34m(\u001b[0m\u001b[0;34m[\u001b[0m\u001b[0mmodel_data_frame\u001b[0m\u001b[0;34m.\u001b[0m\u001b[0mdrop\u001b[0m\u001b[0;34m(\u001b[0m\u001b[0mcolumns\u001b[0m\u001b[0;34m=\u001b[0m\u001b[0;34m[\u001b[0m\u001b[0;34m'Category'\u001b[0m\u001b[0;34m]\u001b[0m\u001b[0;34m)\u001b[0m\u001b[0;34m,\u001b[0m \u001b[0mcategory_encoded_data\u001b[0m\u001b[0;34m]\u001b[0m\u001b[0;34m,\u001b[0m \u001b[0maxis\u001b[0m\u001b[0;34m=\u001b[0m\u001b[0;36m1\u001b[0m\u001b[0;34m)\u001b[0m\u001b[0;34m\u001b[0m\u001b[0;34m\u001b[0m\u001b[0m\n",
            "\u001b[0;32m/usr/local/lib/python3.11/dist-packages/pandas/core/frame.py\u001b[0m in \u001b[0;36m__getitem__\u001b[0;34m(self, key)\u001b[0m\n\u001b[1;32m   4100\u001b[0m             \u001b[0;32mif\u001b[0m \u001b[0mself\u001b[0m\u001b[0;34m.\u001b[0m\u001b[0mcolumns\u001b[0m\u001b[0;34m.\u001b[0m\u001b[0mnlevels\u001b[0m \u001b[0;34m>\u001b[0m \u001b[0;36m1\u001b[0m\u001b[0;34m:\u001b[0m\u001b[0;34m\u001b[0m\u001b[0;34m\u001b[0m\u001b[0m\n\u001b[1;32m   4101\u001b[0m                 \u001b[0;32mreturn\u001b[0m \u001b[0mself\u001b[0m\u001b[0;34m.\u001b[0m\u001b[0m_getitem_multilevel\u001b[0m\u001b[0;34m(\u001b[0m\u001b[0mkey\u001b[0m\u001b[0;34m)\u001b[0m\u001b[0;34m\u001b[0m\u001b[0;34m\u001b[0m\u001b[0m\n\u001b[0;32m-> 4102\u001b[0;31m             \u001b[0mindexer\u001b[0m \u001b[0;34m=\u001b[0m \u001b[0mself\u001b[0m\u001b[0;34m.\u001b[0m\u001b[0mcolumns\u001b[0m\u001b[0;34m.\u001b[0m\u001b[0mget_loc\u001b[0m\u001b[0;34m(\u001b[0m\u001b[0mkey\u001b[0m\u001b[0;34m)\u001b[0m\u001b[0;34m\u001b[0m\u001b[0;34m\u001b[0m\u001b[0m\n\u001b[0m\u001b[1;32m   4103\u001b[0m             \u001b[0;32mif\u001b[0m \u001b[0mis_integer\u001b[0m\u001b[0;34m(\u001b[0m\u001b[0mindexer\u001b[0m\u001b[0;34m)\u001b[0m\u001b[0;34m:\u001b[0m\u001b[0;34m\u001b[0m\u001b[0;34m\u001b[0m\u001b[0m\n\u001b[1;32m   4104\u001b[0m                 \u001b[0mindexer\u001b[0m \u001b[0;34m=\u001b[0m \u001b[0;34m[\u001b[0m\u001b[0mindexer\u001b[0m\u001b[0;34m]\u001b[0m\u001b[0;34m\u001b[0m\u001b[0;34m\u001b[0m\u001b[0m\n",
            "\u001b[0;32m/usr/local/lib/python3.11/dist-packages/pandas/core/indexes/base.py\u001b[0m in \u001b[0;36mget_loc\u001b[0;34m(self, key)\u001b[0m\n\u001b[1;32m   3810\u001b[0m             ):\n\u001b[1;32m   3811\u001b[0m                 \u001b[0;32mraise\u001b[0m \u001b[0mInvalidIndexError\u001b[0m\u001b[0;34m(\u001b[0m\u001b[0mkey\u001b[0m\u001b[0;34m)\u001b[0m\u001b[0;34m\u001b[0m\u001b[0;34m\u001b[0m\u001b[0m\n\u001b[0;32m-> 3812\u001b[0;31m             \u001b[0;32mraise\u001b[0m \u001b[0mKeyError\u001b[0m\u001b[0;34m(\u001b[0m\u001b[0mkey\u001b[0m\u001b[0;34m)\u001b[0m \u001b[0;32mfrom\u001b[0m \u001b[0merr\u001b[0m\u001b[0;34m\u001b[0m\u001b[0;34m\u001b[0m\u001b[0m\n\u001b[0m\u001b[1;32m   3813\u001b[0m         \u001b[0;32mexcept\u001b[0m \u001b[0mTypeError\u001b[0m\u001b[0;34m:\u001b[0m\u001b[0;34m\u001b[0m\u001b[0;34m\u001b[0m\u001b[0m\n\u001b[1;32m   3814\u001b[0m             \u001b[0;31m# If we have a listlike key, _check_indexing_error will raise\u001b[0m\u001b[0;34m\u001b[0m\u001b[0;34m\u001b[0m\u001b[0m\n",
            "\u001b[0;31mKeyError\u001b[0m: 'Category'"
          ]
        }
      ]
    },
    {
      "cell_type": "code",
      "source": [
        "one_hot_encoder = OneHotEncoder()\n",
        "region_coded =  pd.get_dummies(model_data_frame['Region'], prefix='Region').astype(int)\n",
        "model_data_frame = pd.concat([model_data_frame, region_coded], axis=1)\n"
      ],
      "metadata": {
        "id": "D20DzNgl9mfq"
      },
      "execution_count": 89,
      "outputs": []
    },
    {
      "cell_type": "code",
      "source": [
        "print(model_data_frame)"
      ],
      "metadata": {
        "colab": {
          "base_uri": "https://localhost:8080/"
        },
        "id": "Q32bSYCP8h5b",
        "outputId": "611b107d-4d7e-4348-9a65-be07f422c446"
      },
      "execution_count": 90,
      "outputs": [
        {
          "output_type": "stream",
          "name": "stdout",
          "text": [
            "    CustomerID     TransactionDate  RecentTransactionDays  SignupDate  \\\n",
            "0        C0001 2024-11-02 17:04:16               0.155125  2022-07-10   \n",
            "1        C0002 2024-12-03 01:41:41               0.069252  2022-02-13   \n",
            "2        C0003 2024-08-24 18:54:04               0.349030  2024-03-07   \n",
            "3        C0004 2024-12-23 14:13:52               0.013850  2022-10-09   \n",
            "4        C0005 2024-11-04 00:30:22               0.149584  2022-08-15   \n",
            "..         ...                 ...                    ...         ...   \n",
            "194      C0196 2024-12-15 03:43:35               0.036011  2022-06-07   \n",
            "195      C0197 2024-12-27 18:20:31               0.002770  2023-03-21   \n",
            "196      C0198 2024-10-04 18:31:12               0.235457  2022-02-27   \n",
            "197      C0199 2024-10-26 00:01:58               0.174515  2022-12-03   \n",
            "198      C0200 2024-12-11 03:05:50               0.047091  2023-06-11   \n",
            "\n",
            "      history  Region  total_spent  Quantity  Books  Electronics  Home Decor  \\\n",
            "0    0.842204       0     0.308942  0.354839      0            1           1   \n",
            "1    0.979458       3     0.168095  0.290323      0            0           1   \n",
            "2    0.276377       0     0.249541  0.419355      0            1           0   \n",
            "3    0.757236       0     0.497806  0.709677      1            1           1   \n",
            "4    0.808590       3     0.184287  0.193548      0            0           1   \n",
            "..        ...     ...          ...       ...    ...          ...         ...   \n",
            "194  0.873016       0     0.462684  0.354839      0            0           1   \n",
            "195  0.605042       2     0.174318  0.258065      0            1           0   \n",
            "196  0.966387       2     0.080203  0.064516      0            0           0   \n",
            "197  0.705882       2     0.179098  0.258065      0            0           1   \n",
            "198  0.528478       2     0.441508  0.483871      1            0           1   \n",
            "\n",
            "     Clothing  Region_0  Region_1  Region_2  Region_3  \n",
            "0           0         1         0         0         0  \n",
            "1           0         0         0         0         1  \n",
            "2           1         1         0         0         0  \n",
            "3           0         1         0         0         0  \n",
            "4           0         0         0         0         1  \n",
            "..        ...       ...       ...       ...       ...  \n",
            "194         0         1         0         0         0  \n",
            "195         0         0         0         1         0  \n",
            "196         1         0         0         1         0  \n",
            "197         0         0         0         1         0  \n",
            "198         1         0         0         1         0  \n",
            "\n",
            "[199 rows x 16 columns]\n"
          ]
        }
      ]
    },
    {
      "cell_type": "markdown",
      "source": [
        "COSINE SIMILARITY"
      ],
      "metadata": {
        "id": "bbTMmDnABB4l"
      }
    },
    {
      "cell_type": "code",
      "source": [
        "cosine_data_frame = model_data_frame[['RecentTransactionDays','history','Region_0','Region_1','Region_2','Region_3','total_spent','Quantity'\n",
        ",'Books','Electronics','Home Decor','Clothing']]"
      ],
      "metadata": {
        "id": "LRoyhaVsBFz8"
      },
      "execution_count": 92,
      "outputs": []
    },
    {
      "cell_type": "code",
      "source": [
        "features = cosine_data_frame.values\n",
        "cosine_similarity_values = cosine_similarity(features)\n",
        "similarity_computed = pd.DataFrame(cosine_similarity_values, index=model_data_frame[\"CustomerID\"], columns=model_data_frame[\"CustomerID\"])"
      ],
      "metadata": {
        "id": "Z5qGvJt_CHZj"
      },
      "execution_count": 98,
      "outputs": []
    },
    {
      "cell_type": "code",
      "source": [
        "print(similarity_computed)"
      ],
      "metadata": {
        "colab": {
          "base_uri": "https://localhost:8080/"
        },
        "id": "NHvKCnE-DFgv",
        "outputId": "5814f82a-a3af-4af7-d3ec-8c4ade61cb31"
      },
      "execution_count": 99,
      "outputs": [
        {
          "output_type": "stream",
          "name": "stdout",
          "text": [
            "CustomerID     C0001     C0002     C0003     C0004     C0005     C0006  \\\n",
            "CustomerID                                                               \n",
            "C0001       1.000000  0.570668  0.681637  0.881563  0.555099  0.502719   \n",
            "C0002       0.570668  1.000000  0.141030  0.502107  0.993814  0.186132   \n",
            "C0003       0.681637  0.141030  1.000000  0.616207  0.131101  0.834720   \n",
            "C0004       0.881563  0.502107  0.616207  1.000000  0.481941  0.471923   \n",
            "C0005       0.555099  0.993814  0.131101  0.481941  1.000000  0.171266   \n",
            "...              ...       ...       ...       ...       ...       ...   \n",
            "C0196       0.859098  0.659660  0.464873  0.773323  0.638757  0.583247   \n",
            "C0197       0.530411  0.253205  0.453688  0.477170  0.219769  0.147441   \n",
            "C0198       0.260739  0.327529  0.434897  0.205350  0.293938  0.528050   \n",
            "C0199       0.548626  0.636082  0.136088  0.483693  0.625207  0.172134   \n",
            "C0200       0.407885  0.455897  0.366758  0.591809  0.447347  0.451438   \n",
            "\n",
            "CustomerID     C0007     C0008     C0009     C0010  ...     C0191     C0192  \\\n",
            "CustomerID                                          ...                       \n",
            "C0001       0.564029  0.191774  0.409694  0.240115  ...  0.475020  0.731063   \n",
            "C0002       0.983764  0.198822  0.159247  0.286503  ...  0.146687  0.257880   \n",
            "C0003       0.160506  0.483648  0.670742  0.470908  ...  0.463865  0.686463   \n",
            "C0004       0.486682  0.234643  0.345272  0.228135  ...  0.738979  0.848183   \n",
            "C0005       0.992833  0.170921  0.145861  0.250808  ...  0.128847  0.236565   \n",
            "...              ...       ...       ...       ...  ...       ...       ...   \n",
            "C0196       0.643816  0.239980  0.149094  0.281971  ...  0.553156  0.537569   \n",
            "C0197       0.230063  0.166644  0.814791  0.602906  ...  0.119577  0.506603   \n",
            "C0198       0.317804  0.495448  0.801867  0.970417  ...  0.112737  0.258758   \n",
            "C0199       0.633512  0.176566  0.476735  0.618174  ...  0.129733  0.224335   \n",
            "C0200       0.450593  0.466585  0.591388  0.739997  ...  0.433922  0.380392   \n",
            "\n",
            "CustomerID     C0193     C0194     C0195     C0196     C0197     C0198  \\\n",
            "CustomerID                                                               \n",
            "C0001       0.537650  0.594215  0.450035  0.859098  0.530411  0.260739   \n",
            "C0002       0.270636  0.656586  0.480603  0.659660  0.253205  0.327529   \n",
            "C0003       0.499340  0.615846  0.127789  0.464873  0.453688  0.434897   \n",
            "C0004       0.722349  0.547507  0.452479  0.773323  0.477170  0.205350   \n",
            "C0005       0.254932  0.678128  0.488181  0.638757  0.219769  0.293938   \n",
            "...              ...       ...       ...       ...       ...       ...   \n",
            "C0196       0.604123  0.410542  0.525928  1.000000  0.253379  0.298943   \n",
            "C0197       0.194648  0.397131  0.104839  0.253379  1.000000  0.594489   \n",
            "C0198       0.271854  0.362235  0.065809  0.298943  0.594489  1.000000   \n",
            "C0199       0.249096  0.401003  0.508707  0.629297  0.599625  0.624848   \n",
            "C0200       0.441872  0.547042  0.434853  0.480987  0.446744  0.688563   \n",
            "\n",
            "CustomerID     C0199     C0200  \n",
            "CustomerID                      \n",
            "C0001       0.548626  0.407885  \n",
            "C0002       0.636082  0.455897  \n",
            "C0003       0.136088  0.366758  \n",
            "C0004       0.483693  0.591809  \n",
            "C0005       0.625207  0.447347  \n",
            "...              ...       ...  \n",
            "C0196       0.629297  0.480987  \n",
            "C0197       0.599625  0.446744  \n",
            "C0198       0.624848  0.688563  \n",
            "C0199       1.000000  0.734844  \n",
            "C0200       0.734844  1.000000  \n",
            "\n",
            "[199 rows x 199 columns]\n"
          ]
        }
      ]
    },
    {
      "cell_type": "code",
      "source": [
        "lookalikes_map = {}\n",
        "for customer_id in similarity_computed.index[:20]:\n",
        "    top_3 = similarity_computed.loc[customer_id].drop(customer_id).nlargest(3)\n",
        "    lookalikes_map[customer_id] = list(top_3.items())\n",
        "\n",
        "lookalike_csv_datas = pd.DataFrame({\n",
        "    \"CustomerID\":lookalikes_map.keys(),\n",
        "    \"top_lookalikes\":lookalikes_map.values()\n",
        "})"
      ],
      "metadata": {
        "id": "z24tGQzNEEL8"
      },
      "execution_count": 101,
      "outputs": []
    },
    {
      "cell_type": "code",
      "source": [
        "print(lookalike_csv_datas)"
      ],
      "metadata": {
        "colab": {
          "base_uri": "https://localhost:8080/"
        },
        "id": "tVNW4_MjFUOb",
        "outputId": "7827af6c-0e86-438f-fc64-9e54dc28d282"
      },
      "execution_count": 103,
      "outputs": [
        {
          "output_type": "stream",
          "name": "stdout",
          "text": [
            "   CustomerID                                     top_lookalikes\n",
            "0       C0001  [(C0147, 0.996340184702442), (C0085, 0.9215160...\n",
            "1       C0002  [(C0159, 0.9960733974253128), (C0005, 0.993813...\n",
            "2       C0003  [(C0096, 0.8523912755648813), (C0104, 0.840849...\n",
            "3       C0004  [(C0169, 0.90774491241042), (C0099, 0.89794839...\n",
            "4       C0005  [(C0159, 0.9976759081958886), (C0002, 0.993813...\n",
            "5       C0006  [(C0129, 0.990495805175904), (C0031, 0.9855700...\n",
            "6       C0007  [(C0005, 0.9928333774281534), (C0002, 0.983763...\n",
            "7       C0008  [(C0109, 0.9473911085631465), (C0042, 0.936543...\n",
            "8       C0009  [(C0170, 0.9583651313514724), (C0111, 0.939371...\n",
            "9       C0010  [(C0135, 0.9920329863369449), (C0062, 0.973692...\n",
            "10      C0011  [(C0158, 0.9791019128454793), (C0006, 0.966036...\n",
            "11      C0012  [(C0163, 0.9654795389216109), (C0052, 0.944894...\n",
            "12      C0013  [(C0189, 0.975638365387258), (C0082, 0.8611584...\n",
            "13      C0014  [(C0127, 0.8861876352735284), (C0121, 0.886109...\n",
            "14      C0015  [(C0116, 0.9635632456525112), (C0055, 0.954537...\n",
            "15      C0016  [(C0024, 0.9929269565522278), (C0186, 0.987597...\n",
            "16      C0017  [(C0051, 0.9952457683362222), (C0064, 0.990677...\n",
            "17      C0018  [(C0047, 0.9878411210963851), (C0034, 0.973792...\n",
            "18      C0019  [(C0064, 0.9845732899560974), (C0051, 0.965550...\n",
            "19      C0020  [(C0049, 0.8949292093897394), (C0026, 0.883073...\n"
          ]
        }
      ]
    },
    {
      "cell_type": "code",
      "source": [
        "lookalike_csv_datas.to_csv('Lookalike.csv',index=False)"
      ],
      "metadata": {
        "id": "PZw02v2DFgou"
      },
      "execution_count": 104,
      "outputs": []
    }
  ]
}